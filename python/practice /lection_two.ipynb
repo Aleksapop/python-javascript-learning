{
 "cells": [
  {
   "cell_type": "code",
   "execution_count": 14,
   "id": "a252370a-1cb6-4da4-a9db-51e6b287bca6",
   "metadata": {},
   "outputs": [
    {
     "name": "stdout",
     "output_type": "stream",
     "text": [
      "True\n",
      "False\n",
      "False\n",
      "False\n",
      "True\n",
      "True\n",
      "True\n",
      "False\n",
      "False\n",
      "True\n",
      "False\n",
      "False\n",
      "True\n",
      "False\n",
      "False\n",
      "True\n",
      "Done\n",
      "Greetings\n"
     ]
    }
   ],
   "source": [
    "# True or False\n",
    "# and, or, not\n",
    "\n",
    "print(True and True)\n",
    "print(True and False)\n",
    "print(False and True)\n",
    "print(False and False)\n",
    "\n",
    "print(True or True)\n",
    "print(True or False)\n",
    "print(False or True)\n",
    "print(False or False)\n",
    "\n",
    "print(not True)\n",
    "print(not False)\n",
    "\n",
    "print((5 > 4) and (3 == 5)) # False\n",
    "print(not (5 > 4)) # False \n",
    "print((5 > 4) or (3 == 5)) # True\n",
    "print(not ((5 > 4) or (3 == 5))) # False\n",
    "print((True and True) and (True == False)) # False\n",
    "print((not False) or (not True)) # True\n",
    "\n",
    "\n",
    "# ==, !=, >, <, >=, <=\n",
    "# razlika izmedju == i = je to sto == pita se da li su leva i desna strana iste, a = samo dodeljuje vrednost sa desne strane levoj\n",
    "# uslov je kada se pitamo da li je nesto tacno ili ne tacno i koristio bih ga npr age = 18 i stavio bih uslov ako ako su godine vece ili jednake sa 18 napisi punoletan a ako su manje od 18 napisi maloletan\n",
    "\n",
    "\n",
    "spam = 0\n",
    "if spam == 10: # blok 1\n",
    "    print('eggs') # blok 1\n",
    "    if spam > 5: # blok 2\n",
    "       print('bacon') # blok 2\n",
    "    else: # blok 3\n",
    "        print('ham') # blok 3\n",
    "    print('spam') # blok 1\n",
    "print('Done') # ne pripada bloku\n",
    "\n",
    "\n",
    "\n",
    "spam = 3\n",
    "if spam == 1:\n",
    "    print(\"Hello\")\n",
    "elif spam == 2:\n",
    "    print(\"Howdy\")\n",
    "else:\n",
    "    print(\"Greetings\")"
   ]
  }
 ],
 "metadata": {
  "kernelspec": {
   "display_name": "Python [conda env:base] *",
   "language": "python",
   "name": "conda-base-py"
  },
  "language_info": {
   "codemirror_mode": {
    "name": "ipython",
    "version": 3
   },
   "file_extension": ".py",
   "mimetype": "text/x-python",
   "name": "python",
   "nbconvert_exporter": "python",
   "pygments_lexer": "ipython3",
   "version": "3.13.5"
  }
 },
 "nbformat": 4,
 "nbformat_minor": 5
}
