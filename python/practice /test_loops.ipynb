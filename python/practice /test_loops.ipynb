{
 "cells": [
  {
   "cell_type": "code",
   "execution_count": 2,
   "id": "296ff9f8-b13d-4fe5-b45d-885cef2eb307",
   "metadata": {},
   "outputs": [
    {
     "name": "stdout",
     "output_type": "stream",
     "text": [
      "Dobro dosli na destinaciju \n"
     ]
    }
   ],
   "source": [
    "beograd = 'Beograd'\n",
    "nis = 'Nis'\n",
    "krusevac = 'Krusevac'\n",
    "\n",
    "destinacija = 'prokuplje'\n",
    "# ako je destinacija = prokuplju ili nisu print dobro dosli na destinaciju, a ako nije prinatj niste pogodili destinaciju\n",
    "\n",
    "if destinacija == 'prokuplje' or 'Nis':\n",
    "    print('Dobro dosli na destinaciju ')\n",
    "else:\n",
    "    print(\"Niste pogodili\")"
   ]
  },
  {
   "cell_type": "code",
   "execution_count": 15,
   "id": "fc33b7d5-5755-4d67-8b9f-d4438b8c909b",
   "metadata": {},
   "outputs": [
    {
     "name": "stdout",
     "output_type": "stream",
     "text": [
      "Dobro dosli na destinaciju \n"
     ]
    }
   ],
   "source": [
    "if destinacija == 'prokuplje' or destination == nis:\n",
    "    print('Dobro dosli na destinaciju ')\n",
    "elif destinacija == 'prokuplje':\n",
    "    print(\"bravo\")\n",
    "else:\n",
    "    print (\"destinacija :\")"
   ]
  },
  {
   "cell_type": "code",
   "execution_count": 11,
   "id": "a2d4c1bc-a0c1-49a6-8814-df8688b3178f",
   "metadata": {},
   "outputs": [
    {
     "name": "stdout",
     "output_type": "stream",
     "text": [
      "Dobro dosli na destinaciju \n",
      "lalalalala \n"
     ]
    }
   ],
   "source": [
    "if destinacija == 'prokuplje' or destination == nis:\n",
    "    print('Dobro dosli na destinaciju ')\n",
    "\n",
    "if destinacija == 'prokuplje' or destination == nis:\n",
    "    print('lalalalala ')\n"
   ]
  },
  {
   "cell_type": "code",
   "execution_count": null,
   "id": "ec6faf67-107a-4c76-82d4-4e5829d115ba",
   "metadata": {},
   "outputs": [],
   "source": []
  }
 ],
 "metadata": {
  "kernelspec": {
   "display_name": "Python [conda env:base] *",
   "language": "python",
   "name": "conda-base-py"
  },
  "language_info": {
   "codemirror_mode": {
    "name": "ipython",
    "version": 3
   },
   "file_extension": ".py",
   "mimetype": "text/x-python",
   "name": "python",
   "nbconvert_exporter": "python",
   "pygments_lexer": "ipython3",
   "version": "3.13.5"
  }
 },
 "nbformat": 4,
 "nbformat_minor": 5
}
