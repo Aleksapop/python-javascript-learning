{
 "cells": [
  {
   "cell_type": "code",
   "execution_count": 26,
   "id": "95ab2b1c-7106-4b4c-b3a8-d4d1d54abb3b",
   "metadata": {},
   "outputs": [
    {
     "data": {
      "text/plain": [
       "'3.69'"
      ]
     },
     "execution_count": 26,
     "metadata": {},
     "output_type": "execute_result"
    }
   ],
   "source": [
    "5 + 5\n",
    "\"Pera\"\n",
    "8 % 5\n",
    "10 % 5\n",
    "2 * 4\n",
    "7 ** 1\n",
    "7 / 2\n",
    "7 // 2\n",
    "9 // 2\n",
    "round(4.5)\n",
    "14 // 3\n",
    "(1 + 2 * 6 / 4) / 1 * 7 - 3 + (2 * 3 / 2 * 2 - 3 / 3 * 5) - 4 / 7 * 20 // 3\n",
    "4 / 7 * 20 // 3\n",
    "20.54 // 3\n",
    "2 * (6) - (-98)\n",
    "4 * (8) / (4)\n",
    "\n",
    "3.69\n",
    "3\n",
    "\"aleksa\" \n",
    "'Aleksa' + ' ' + 'Popovic'\n",
    "'Aleksa' / 30.8\n",
    "str(3.69)"
   ]
  }
 ],
 "metadata": {
  "kernelspec": {
   "display_name": "Python [conda env:base] *",
   "language": "python",
   "name": "conda-base-py"
  },
  "language_info": {
   "codemirror_mode": {
    "name": "ipython",
    "version": 3
   },
   "file_extension": ".py",
   "mimetype": "text/x-python",
   "name": "python",
   "nbconvert_exporter": "python",
   "pygments_lexer": "ipython3",
   "version": "3.13.5"
  }
 },
 "nbformat": 4,
 "nbformat_minor": 5
}
