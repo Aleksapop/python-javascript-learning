{
 "cells": [
  {
   "cell_type": "code",
   "execution_count": 2,
   "id": "eb054399-ce37-4a8f-bc93-396ec7b28b4e",
   "metadata": {},
   "outputs": [
    {
     "data": {
      "text/plain": [
       "1.1577181208053693"
      ]
     },
     "execution_count": 2,
     "metadata": {},
     "output_type": "execute_result"
    }
   ],
   "source": [
    "2*2\n",
    "3.45 / 2.98"
   ]
  },
  {
   "cell_type": "code",
   "execution_count": null,
   "id": "807bc8c4-e4bc-44cd-bf22-64f7606c9010",
   "metadata": {},
   "outputs": [],
   "source": []
  }
 ],
 "metadata": {
  "kernelspec": {
   "display_name": "Python [conda env:base] *",
   "language": "python",
   "name": "conda-base-py"
  },
  "language_info": {
   "codemirror_mode": {
    "name": "ipython",
    "version": 3
   },
   "file_extension": ".py",
   "mimetype": "text/x-python",
   "name": "python",
   "nbconvert_exporter": "python",
   "pygments_lexer": "ipython3",
   "version": "3.13.5"
  }
 },
 "nbformat": 4,
 "nbformat_minor": 5
}
