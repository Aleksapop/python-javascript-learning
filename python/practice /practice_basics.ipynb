{
 "cells": [
  {
   "cell_type": "code",
   "execution_count": 11,
   "id": "eb054399-ce37-4a8f-bc93-396ec7b28b4e",
   "metadata": {},
   "outputs": [
    {
     "name": "stdout",
     "output_type": "stream",
     "text": [
      "8.744\n",
      "19.745488982268437\n",
      "11.293022423130285\n",
      "1.0\n",
      "3.0\n",
      "1.0\n"
     ]
    }
   ],
   "source": [
    "a = 2.32+5.424 + 1\n",
    "print(a)\n",
    "b = 2.54 ** 3.2 # ov je isto sto i 2 * 2 * 2 * 2\n",
    "print(b)\n",
    "c = 25.232 / 2.2343\n",
    "print(c)\n",
    "cc = 2.1212 // 1.313\n",
    "print(cc)\n",
    "d = 30 / 10 \n",
    "print(d)\n",
    "dd = 31213.3214321 // 23432.422\n",
    "print(dd)"
   ]
  },
  {
   "cell_type": "code",
   "execution_count": 13,
   "id": "db4d6b04-d874-45a9-b977-d777dc4fbfa6",
   "metadata": {},
   "outputs": [
    {
     "name": "stdout",
     "output_type": "stream",
     "text": [
      "15.5\n",
      "118.99959143473608\n",
      "-614.8416244465764\n",
      "3.2601123595505617\n",
      "100833.0\n",
      "5\n",
      "4\n",
      "-23657.37698073706\n"
     ]
    }
   ],
   "source": [
    "a = 2 + 3 * 6 / 4 * 3\n",
    "b = (2+3) * 6.12 / (1.211 * 0.21234)\n",
    "c = -2.231 ** 8.00220\n",
    "d = -23.212 / (-7.12)\n",
    "e = 0.121000 // 0.0000012\n",
    "f = -23 % 7\n",
    "g = 2+2  # pokazuje da razmak nema veze da ce jos uvek da sabere\n",
    "i = (5.121-1.1992) * ((7211 + 5409.123) / (-3.0921-(-1))) \n",
    "print(a)\n",
    "print(b)\n",
    "print(c)\n",
    "print(d)\n",
    "print(e)\n",
    "print(f)\n",
    "print(g)\n",
    "print(i)"
   ]
  },
  {
   "cell_type": "code",
   "execution_count": 15,
   "id": "98c053de-2413-46b8-a93c-064fdd9598cd",
   "metadata": {},
   "outputs": [
    {
     "ename": "SyntaxError",
     "evalue": "cannot use starred expression here (714218536.py, line 1)",
     "output_type": "error",
     "traceback": [
      "\u001b[0;36m  Cell \u001b[0;32mIn[15], line 1\u001b[0;36m\u001b[0m\n\u001b[0;31m    45 + 5 + (* 1) # pokazuje gresku jer nmg ovako da se stave dva znaka i da ti radis jer nema sa cim da se sabere\u001b[0m\n\u001b[0m              ^\u001b[0m\n\u001b[0;31mSyntaxError\u001b[0m\u001b[0;31m:\u001b[0m cannot use starred expression here\n"
     ]
    }
   ],
   "source": [
    "45 + 5 + (* 1) # pokazuje gresku jer nmg ovako da se stave dva znaka i da ti radis jer nema sa cim da se sabere"
   ]
  },
  {
   "cell_type": "code",
   "execution_count": 19,
   "id": "8723a8d6-8c4b-44a4-955e-0f9e3e020821",
   "metadata": {},
   "outputs": [
    {
     "ename": "TypeError",
     "evalue": "can't multiply sequence by non-int of type 'str'",
     "output_type": "error",
     "traceback": [
      "\u001b[0;31m---------------------------------------------------------------------------\u001b[0m",
      "\u001b[0;31mTypeError\u001b[0m                                 Traceback (most recent call last)",
      "Cell \u001b[0;32mIn[19], line 1\u001b[0m\n\u001b[0;32m----> 1\u001b[0m \u001b[38;5;124m'\u001b[39m\u001b[38;5;124mAlice\u001b[39m\u001b[38;5;124m'\u001b[39m \u001b[38;5;241m*\u001b[39m \u001b[38;5;124m'\u001b[39m\u001b[38;5;124mBob\u001b[39m\u001b[38;5;124m'\u001b[39m\n",
      "\u001b[0;31mTypeError\u001b[0m: can't multiply sequence by non-int of type 'str'"
     ]
    }
   ],
   "source": [
    "'Alice' * 'Bob' # pokazuje gresku jer ne mozes da mnozis dva str"
   ]
  },
  {
   "cell_type": "code",
   "execution_count": 21,
   "id": "537335d0-fad8-454a-9caf-3a00e3c46157",
   "metadata": {},
   "outputs": [
    {
     "data": {
      "text/plain": [
       "'AliceBobBobBobBobBobBobBobBobBobBobBobBob'"
      ]
     },
     "execution_count": 21,
     "metadata": {},
     "output_type": "execute_result"
    }
   ],
   "source": [
    "'Alice' + 'Bob' * 12 # pokazuje da mozes da pomnozis str sa brojem "
   ]
  },
  {
   "cell_type": "code",
   "execution_count": 27,
   "id": "d8edd42d-ede5-4518-a16d-1bb8c35b69eb",
   "metadata": {},
   "outputs": [
    {
     "ename": "TypeError",
     "evalue": "can only concatenate str (not \"int\") to str",
     "output_type": "error",
     "traceback": [
      "\u001b[0;31m---------------------------------------------------------------------------\u001b[0m",
      "\u001b[0;31mTypeError\u001b[0m                                 Traceback (most recent call last)",
      "Cell \u001b[0;32mIn[27], line 1\u001b[0m\n\u001b[0;32m----> 1\u001b[0m \u001b[38;5;124m'\u001b[39m\u001b[38;5;124mAlice\u001b[39m\u001b[38;5;124m'\u001b[39m \u001b[38;5;241m+\u001b[39m \u001b[38;5;124m'\u001b[39m\u001b[38;5;124mBob\u001b[39m\u001b[38;5;124m'\u001b[39m \u001b[38;5;241m+\u001b[39m \u001b[38;5;241m12\u001b[39m\n",
      "\u001b[0;31mTypeError\u001b[0m: can only concatenate str (not \"int\") to str"
     ]
    }
   ],
   "source": [
    "'Alice' + 'Bob' + 12 # pokazuje da ne moze da se radi druga operacija izmedju str i broja"
   ]
  },
  {
   "cell_type": "code",
   "execution_count": 36,
   "id": "8aba95ff-1ac0-430a-980c-7e0afa0eb739",
   "metadata": {},
   "outputs": [
    {
     "name": "stdout",
     "output_type": "stream",
     "text": [
      "Cao ja sam AI, kako se ti zoves\n",
      "Aleksa\n",
      "Drago mi je sto smo se upoznali AleksaKoliko imas godina\n"
     ]
    },
    {
     "ename": "TypeError",
     "evalue": "unsupported operand type(s) for +: 'int' and 'str'",
     "output_type": "error",
     "traceback": [
      "\u001b[0;31m---------------------------------------------------------------------------\u001b[0m",
      "\u001b[0;31mTypeError\u001b[0m                                 Traceback (most recent call last)",
      "Cell \u001b[0;32mIn[36], line 6\u001b[0m\n\u001b[1;32m      4\u001b[0m \u001b[38;5;28mprint\u001b[39m(\u001b[38;5;124m'\u001b[39m\u001b[38;5;124mDrago mi je sto smo se upoznali \u001b[39m\u001b[38;5;124m'\u001b[39m \u001b[38;5;241m+\u001b[39m my_name \u001b[38;5;241m+\u001b[39m (\u001b[38;5;124m'\u001b[39m\u001b[38;5;124mKoliko imas godina\u001b[39m\u001b[38;5;124m'\u001b[39m))\n\u001b[1;32m      5\u001b[0m my_year \u001b[38;5;241m=\u001b[39m \u001b[38;5;241m19\u001b[39m\n\u001b[0;32m----> 6\u001b[0m \u001b[38;5;28mprint\u001b[39m(my_year \u001b[38;5;241m+\u001b[39m \u001b[38;5;124m'\u001b[39m\u001b[38;5;124mKoliko ti imas godina\u001b[39m\u001b[38;5;124m'\u001b[39m) \u001b[38;5;66;03m# ovde ce da izbaci gresku jer pokusavam da dodam int na str a to ne moze u ovom slucaju moram da stavm zarez kako bi radilo\u001b[39;00m\n\u001b[1;32m      7\u001b[0m \u001b[38;5;28mprint\u001b[39m(\u001b[38;5;124m'\u001b[39m\u001b[38;5;124mJa sam vestacka inteligencija koju je napravio covek\u001b[39m\u001b[38;5;124m'\u001b[39m)\n",
      "\u001b[0;31mTypeError\u001b[0m: unsupported operand type(s) for +: 'int' and 'str'"
     ]
    }
   ],
   "source": [
    "print('Cao ja sam AI, kako se ti zoves')\n",
    "my_name = 'Aleksa'\n",
    "print(my_name)\n",
    "print('Drago mi je sto smo se upoznali ' + my_name + ('Koliko imas godina'))\n",
    "my_year = 19\n",
    "print(my_year + 'Koliko ti imas godina') # ovde ce da izbaci gresku jer pokusavam da dodam int na str a to ne moze u ovom slucaju moram da stavm zarez kako bi radilo\n",
    "print('Ja sam vestacka inteligencija koju je napravio covek')"
   ]
  },
  {
   "cell_type": "code",
   "execution_count": 45,
   "id": "0eb7adcc-8278-4bf2-9c71-ed107a1aa36a",
   "metadata": {},
   "outputs": [
    {
     "name": "stdout",
     "output_type": "stream",
     "text": [
      "Cao ja sam AI, kako se ti zoves\n",
      "Aleksa\n",
      "Drago mi je sto smo se upoznali AleksaKoliko imas godina\n",
      "19 Koliko ti imas godina\n",
      "Ja sam vestacka inteligencija koju je napravio covek\n"
     ]
    }
   ],
   "source": [
    "print('Cao ja sam AI, kako se ti zoves')\n",
    "my_name = 'Aleksa'\n",
    "print(my_name)\n",
    "print('Drago mi je sto smo se upoznali ' + my_name + ('Koliko imas godina'))\n",
    "my_year = 19\n",
    "print(my_year, 'Koliko ti imas godina') # ovde ce da izbaci gresku jer pokusavam da dodam int na str a to ne moze u ovom slucaju moram da stavm zarez kako bi radilo\n",
    "print('Ja sam vestacka inteligencija koju je napravio covek')"
   ]
  },
  {
   "cell_type": "code",
   "execution_count": 51,
   "id": "22146776-08da-48d6-928d-8523050dbc7f",
   "metadata": {},
   "outputs": [
    {
     "name": "stdout",
     "output_type": "stream",
     "text": [
      "1.887\n",
      "1.8872415801222946\n",
      "4\n",
      "4\n",
      "-4\n",
      "-4\n"
     ]
    }
   ],
   "source": [
    "print(round(7.7777 / 4.1212, 3))\n",
    "print(7.7777 / 4.1212)\n",
    "print(round(3.5))\n",
    "print(round(4.5))\n",
    "print(round(-3.5))\n",
    "print(round(-4.5))\n",
    "# ovo je primer koliko broj ima decimala i da ja mogu da biram na koliko decimala zelim da mi ga pajton zaokruzi, takodje ovo pokazuje da ce parne brojeve ako su na pola da zaokruzi na manji dok ako je broj neparam na pola da zaokruzi na vec i da ce ako su brojevi negativni isto da radi"
   ]
  },
  {
   "cell_type": "code",
   "execution_count": 58,
   "id": "e9fb4b0c-7949-4b59-879f-afd45f76ba73",
   "metadata": {},
   "outputs": [
    {
     "data": {
      "text/plain": [
       "0"
      ]
     },
     "execution_count": 58,
     "metadata": {},
     "output_type": "execute_result"
    }
   ],
   "source": [
    "abs(-0)"
   ]
  },
  {
   "cell_type": "code",
   "execution_count": 3,
   "id": "f9e46699-5c3c-427c-b641-5f7a3af60cc7",
   "metadata": {},
   "outputs": [
    {
     "name": "stdout",
     "output_type": "stream",
     "text": [
      "15\n"
     ]
    }
   ],
   "source": [
    "print(len(''))"
   ]
  }
 ],
 "metadata": {
  "kernelspec": {
   "display_name": "Python [conda env:base] *",
   "language": "python",
   "name": "conda-base-py"
  },
  "language_info": {
   "codemirror_mode": {
    "name": "ipython",
    "version": 3
   },
   "file_extension": ".py",
   "mimetype": "text/x-python",
   "name": "python",
   "nbconvert_exporter": "python",
   "pygments_lexer": "ipython3",
   "version": "3.13.5"
  }
 },
 "nbformat": 4,
 "nbformat_minor": 5
}
