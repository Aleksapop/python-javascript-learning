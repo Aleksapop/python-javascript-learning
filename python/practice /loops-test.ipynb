{
 "cells": [
  {
   "cell_type": "code",
   "execution_count": 99,
   "id": "1b8bdafa-6bfe-40b9-9156-c402c1ec3c74",
   "metadata": {},
   "outputs": [
    {
     "name": "stdout",
     "output_type": "stream",
     "text": [
      "brojevi koji su deljivi sa tri 3\n",
      "Brojevi koji su deljivi sa pet 5\n",
      "brojevi koji su deljivi sa tri 6\n",
      "brojevi koji su deljivi sa tri 9\n",
      "Brojevi koji su deljivi sa pet 10\n",
      "brojevi koji su deljivi sa tri 12\n",
      "Brojevi koji su deljivi i sa tri i sa pet:  15\n",
      "brojevi koji su deljivi sa tri 18\n",
      "Brojevi koji su deljivi sa pet 20\n",
      "brojevi koji su deljivi sa tri 21\n",
      "brojevi koji su deljivi sa tri 24\n",
      "Brojevi koji su deljivi sa pet 25\n",
      "brojevi koji su deljivi sa tri 27\n",
      "Brojevi koji su deljivi i sa tri i sa pet:  30\n",
      "brojevi koji su deljivi sa tri 33\n",
      "Brojevi koji su deljivi sa pet 35\n",
      "brojevi koji su deljivi sa tri 36\n",
      "brojevi koji su deljivi sa tri 39\n",
      "Brojevi koji su deljivi sa pet 40\n",
      "brojevi koji su deljivi sa tri 42\n",
      "Brojevi koji su deljivi i sa tri i sa pet:  45\n",
      "brojevi koji su deljivi sa tri 48\n",
      "Brojevi koji su deljivi sa pet 50\n",
      "brojevi koji su deljivi sa tri 51\n",
      "brojevi koji su deljivi sa tri 54\n",
      "Brojevi koji su deljivi sa pet 55\n",
      "brojevi koji su deljivi sa tri 57\n",
      "Brojevi koji su deljivi i sa tri i sa pet:  60\n",
      "brojevi koji su deljivi sa tri 63\n",
      "Brojevi koji su deljivi sa pet 65\n",
      "brojevi koji su deljivi sa tri 66\n",
      "brojevi koji su deljivi sa tri 69\n",
      "Brojevi koji su deljivi sa pet 70\n",
      "brojevi koji su deljivi sa tri 72\n",
      "Brojevi koji su deljivi i sa tri i sa pet:  75\n",
      "brojevi koji su deljivi sa tri 78\n",
      "Brojevi koji su deljivi sa pet 80\n",
      "brojevi koji su deljivi sa tri 81\n",
      "brojevi koji su deljivi sa tri 84\n",
      "Brojevi koji su deljivi sa pet 85\n",
      "brojevi koji su deljivi sa tri 87\n",
      "Brojevi koji su deljivi i sa tri i sa pet:  90\n",
      "brojevi koji su deljivi sa tri 93\n",
      "Brojevi koji su deljivi sa pet 95\n",
      "brojevi koji su deljivi sa tri 96\n",
      "brojevi koji su deljivi sa tri 99\n",
      "Brojevi koji su deljivi sa pet 100\n"
     ]
    }
   ],
   "source": [
    "### napravi loop koji ce da printa sve brojeve koji ce da printa sve brojeve koji su deljivi sa 3 i sa 5 i sa oba \n",
    "\n",
    "\n",
    "for i in range(1, 101):\n",
    "    if i % 15 == 0:\n",
    "        print(\"Brojevi koji su deljivi i sa tri i sa pet: \", i)\n",
    "    elif i % 5 == 0:\n",
    "        print(\"Brojevi koji su deljivi sa pet\", i)\n",
    "    elif i % 3 == 0:\n",
    "        print(\"brojevi koji su deljivi sa tri\", i)"
   ]
  },
  {
   "cell_type": "code",
   "execution_count": null,
   "id": "5c203471-7580-410e-89ce-9059616d2913",
   "metadata": {},
   "outputs": [],
   "source": []
  }
 ],
 "metadata": {
  "kernelspec": {
   "display_name": "Python [conda env:base] *",
   "language": "python",
   "name": "conda-base-py"
  },
  "language_info": {
   "codemirror_mode": {
    "name": "ipython",
    "version": 3
   },
   "file_extension": ".py",
   "mimetype": "text/x-python",
   "name": "python",
   "nbconvert_exporter": "python",
   "pygments_lexer": "ipython3",
   "version": "3.13.5"
  }
 },
 "nbformat": 4,
 "nbformat_minor": 5
}
