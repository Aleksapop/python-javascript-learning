{
 "cells": [
  {
   "cell_type": "code",
   "execution_count": 3,
   "id": "b51eec4c-6f13-4702-a958-b00b3df46adc",
   "metadata": {},
   "outputs": [
    {
     "data": {
      "text/plain": [
       "True"
      ]
     },
     "execution_count": 3,
     "metadata": {},
     "output_type": "execute_result"
    }
   ],
   "source": [
    "spam = True\n",
    "spam"
   ]
  },
  {
   "cell_type": "code",
   "execution_count": 8,
   "id": "9f5636b9-021c-4f26-a670-166c28e016e9",
   "metadata": {},
   "outputs": [
    {
     "ename": "SyntaxError",
     "evalue": "cannot assign to False (3086977152.py, line 1)",
     "output_type": "error",
     "traceback": [
      "\u001b[0;36m  Cell \u001b[0;32mIn[8], line 1\u001b[0;36m\u001b[0m\n\u001b[0;31m    False = 2 + 2\u001b[0m\n\u001b[0m    ^\u001b[0m\n\u001b[0;31mSyntaxError\u001b[0m\u001b[0;31m:\u001b[0m cannot assign to False\n"
     ]
    }
   ],
   "source": [
    "False = 2 + 2"
   ]
  },
  {
   "cell_type": "code",
   "execution_count": 16,
   "id": "b8c47684-35b5-471f-b6fa-52b3faae7c52",
   "metadata": {},
   "outputs": [
    {
     "name": "stdout",
     "output_type": "stream",
     "text": [
      "True\n",
      "False\n",
      "True\n",
      "False\n",
      "True\n",
      "False\n",
      "True\n",
      "True\n",
      "True\n",
      "True\n",
      "False\n"
     ]
    }
   ],
   "source": [
    "print(42 == 42)\n",
    "print(42 == 99)\n",
    "print(2 != 3)\n",
    "print(2 != 2)\n",
    "print('hello' == 'hello')\n",
    "print('hello' == 'Hello')\n",
    "print('dog' != 'cat')\n",
    "print(True == True)\n",
    "print(False != True)\n",
    "print(42 == 42.0)\n",
    "print(42 == '42')"
   ]
  },
  {
   "cell_type": "code",
   "execution_count": 17,
   "id": "9a394f23-8038-45b0-b5a2-94173a519e86",
   "metadata": {},
   "outputs": [
    {
     "name": "stdout",
     "output_type": "stream",
     "text": [
      "False\n",
      "True\n",
      "False\n",
      "False\n",
      "True\n"
     ]
    }
   ],
   "source": [
    "print(42 > 100)\n",
    "print(42 < 100)\n",
    "print(42 < 42)\n",
    "eggs = 42\n",
    "print(eggs <= 10)\n",
    "my_age = 18\n",
    "print(my_age >= 10)"
   ]
  },
  {
   "cell_type": "code",
   "execution_count": 22,
   "id": "5d845397-7e2b-4371-b8c2-d82c6a6e5eb6",
   "metadata": {},
   "outputs": [
    {
     "name": "stdout",
     "output_type": "stream",
     "text": [
      "True\n",
      "False\n",
      "False\n",
      "False\n"
     ]
    }
   ],
   "source": [
    "print(True and True)\n",
    "print(False and True)\n",
    "print(True and False)\n",
    "print(False and False)"
   ]
  },
  {
   "cell_type": "code",
   "execution_count": 20,
   "id": "3ec2a696-a106-48b1-aea7-7dbe235b5bc4",
   "metadata": {},
   "outputs": [
    {
     "name": "stdout",
     "output_type": "stream",
     "text": [
      "True\n",
      "True\n",
      "True\n",
      "False\n"
     ]
    }
   ],
   "source": [
    "print(True or True)\n",
    "print(True or False)\n",
    "print(False or True)\n",
    "print(False or False)"
   ]
  },
  {
   "cell_type": "code",
   "execution_count": 24,
   "id": "8196eb2b-d6a4-4263-b7eb-598e3ff72e04",
   "metadata": {},
   "outputs": [
    {
     "name": "stdout",
     "output_type": "stream",
     "text": [
      "False\n",
      "True\n",
      "True\n"
     ]
    }
   ],
   "source": [
    "print(not True)\n",
    "print(not False)\n",
    "print(not not not not True)"
   ]
  },
  {
   "cell_type": "code",
   "execution_count": 26,
   "id": "fcf0c290-d86d-495e-bfc5-842d7eccb49c",
   "metadata": {},
   "outputs": [
    {
     "name": "stdout",
     "output_type": "stream",
     "text": [
      "True\n",
      "False\n",
      "True\n"
     ]
    }
   ],
   "source": [
    "print((4 < 5) and (5 < 6))\n",
    "print((4 < 5) and (9 < 6))\n",
    "print((1 == 2) or (2 == 2))"
   ]
  },
  {
   "cell_type": "code",
   "execution_count": 27,
   "id": "51ca8247-5f0a-41b9-9c6d-894735d24bba",
   "metadata": {},
   "outputs": [
    {
     "data": {
      "text/plain": [
       "True"
      ]
     },
     "execution_count": 27,
     "metadata": {},
     "output_type": "execute_result"
    }
   ],
   "source": [
    "spam = 4\n",
    "2 + 2 == spam and not 2 + 2 == (spam + 1) and 2 * 2 == 2 + 2"
   ]
  },
  {
   "cell_type": "code",
   "execution_count": 29,
   "id": "ce315e1b-1a30-44e3-8332-03600988ee1e",
   "metadata": {},
   "outputs": [
    {
     "name": "stdout",
     "output_type": "stream",
     "text": [
      "Hello, Mary\n",
      "Access granted.\n"
     ]
    }
   ],
   "source": [
    "username = 'Mary'\n",
    "password = 'swordfish'\n",
    "if username == 'Mary':\n",
    "    print('Hello, Mary')\n",
    "if password == 'swordfish':\n",
    "    print('Access granted.')\n",
    "else:\n",
    "    print('Wrong password.')"
   ]
  },
  {
   "cell_type": "code",
   "execution_count": 30,
   "id": "2d2ea970-88f5-4e06-9e83-212ba6739fc0",
   "metadata": {},
   "outputs": [
    {
     "name": "stdout",
     "output_type": "stream",
     "text": [
      "Hi, Alice.\n"
     ]
    }
   ],
   "source": [
    "name = 'Alice'\n",
    "if name == 'Alice':\n",
    "    print('Hi, Alice.')\n",
    "else:\n",
    "    print('Hello, stranger.')"
   ]
  },
  {
   "cell_type": "code",
   "execution_count": 31,
   "id": "41764d75-4b3a-46e8-a7ee-1ed5471a8ea7",
   "metadata": {},
   "outputs": [
    {
     "name": "stdout",
     "output_type": "stream",
     "text": [
      "Hello, stranger.\n"
     ]
    }
   ],
   "source": [
    "name = 'Alice'\n",
    "if name == 'Alicee':\n",
    "    print('Hi, Alice.')\n",
    "else:\n",
    "    print('Hello, stranger.')"
   ]
  },
  {
   "cell_type": "code",
   "execution_count": 41,
   "id": "245449a0-060c-48d6-9284-48c0455d3888",
   "metadata": {},
   "outputs": [
    {
     "name": "stdout",
     "output_type": "stream",
     "text": [
      "Hi, Alice.\n"
     ]
    }
   ],
   "source": [
    "name = 'Alice'\n",
    "age = 33\n",
    "if name == 'Alice':\n",
    "    print('Hi, Alice.')\n",
    "elif age < 12:\n",
    "    print('You are not Alice, kiddo.')"
   ]
  },
  {
   "cell_type": "code",
   "execution_count": 42,
   "id": "91ef9958-583c-417c-9593-bfe65af94d2f",
   "metadata": {},
   "outputs": [
    {
     "name": "stdout",
     "output_type": "stream",
     "text": [
      "Unlike you, Alice is not an undead, immortal vampire.\n"
     ]
    }
   ],
   "source": [
    "name = 'Carol'\n",
    "age = 3000\n",
    "\n",
    "if name == 'Alice':\n",
    "    print('Hi, Alice.')\n",
    "elif age < 12:\n",
    "    print('You are not Alice, kiddo.')\n",
    "elif age > 2000:\n",
    "    print('Unlike you, Alice is not an undead, immortal vampire.')\n",
    "elif age > 100:\n",
    "    print('You are not Alice, grannie.')"
   ]
  },
  {
   "cell_type": "code",
   "execution_count": 43,
   "id": "f9bcef27-a1c3-46f5-9cb1-74f608145c28",
   "metadata": {},
   "outputs": [
    {
     "name": "stdout",
     "output_type": "stream",
     "text": [
      "You are not Alice, grannie.\n"
     ]
    }
   ],
   "source": [
    "name = 'Carol'\n",
    "age = 3000\n",
    "if name == 'Alice':\n",
    "    print('Hi, Alice.')\n",
    "elif age < 12:\n",
    "    print('You are not Alice, kiddo.')\n",
    "elif age > 100:\n",
    "    print('You are not Alice, grannie.')\n",
    "elif age > 2000:\n",
    "    print('Unlike you, Alice is not an undead, immortal vampire.')"
   ]
  },
  {
   "cell_type": "code",
   "execution_count": 44,
   "id": "4883b66d-636d-4657-9610-36b1c0794065",
   "metadata": {},
   "outputs": [
    {
     "name": "stdout",
     "output_type": "stream",
     "text": [
      "You are neither Alice nor a little kid.\n"
     ]
    }
   ],
   "source": [
    "name = 'Carol'\n",
    "age = 3000\n",
    "if name == 'Alice':\n",
    "    print('Hi, Alice.')\n",
    "elif age < 12:\n",
    "    print('You are not Alice, kiddo.')\n",
    "else:\n",
    "    print('You are neither Alice nor a little kid.')"
   ]
  },
  {
   "cell_type": "code",
   "execution_count": 46,
   "id": "13367789-a966-47c6-86fb-ed4987229bd0",
   "metadata": {},
   "outputs": [
    {
     "name": "stdout",
     "output_type": "stream",
     "text": [
      "danas nije dan suprotnosti\n"
     ]
    }
   ],
   "source": [
    "danas_je_dan_sposobnosti = True\n",
    "if danas_je_dan_sposobnosti == True:\n",
    "    reci_to_je_dan_suprotnosti = True\n",
    "else:\n",
    "    reci_to_je_dan_suprotnosti = False\n",
    "\n",
    "if danas_je_dan_sposobnosti == True:\n",
    "    reci_to_je_dan_suprotnosti = not reci_to_je_dan_suprotnosti\n",
    "\n",
    "if reci_to_je_dan_suprotnosti == True:\n",
    "    print('Danas je dan suprotnosti')\n",
    "else:\n",
    "    print('danas nije dan suprotnosti')"
   ]
  },
  {
   "cell_type": "code",
   "execution_count": 52,
   "id": "56bb1eb1-5d93-4081-ae1c-8aa4558923c5",
   "metadata": {},
   "outputs": [
    {
     "name": "stdout",
     "output_type": "stream",
     "text": [
      "Unesite TB ili GB za oglasenu jedinicu:\n"
     ]
    },
    {
     "name": "stdin",
     "output_type": "stream",
     "text": [
      "> GB\n"
     ]
    },
    {
     "name": "stdout",
     "output_type": "stream",
     "text": [
      "Unesite oglaseni kapacitet:\n"
     ]
    },
    {
     "name": "stdin",
     "output_type": "stream",
     "text": [
      "> 12355555\n"
     ]
    },
    {
     "name": "stdout",
     "output_type": "stream",
     "text": [
      "Stvarni kapacitet je 11507007.29 GB\n"
     ]
    }
   ],
   "source": [
    "print('Unesite TB ili GB za oglasenu jedinicu:')\n",
    "unit = input('>')\n",
    "if unit == 'TB' or unit == 'tb':\n",
    "    discrepancy = 1000000000000 / 1099511627776\n",
    "elif unit =='GB' or unit == 'gb':\n",
    "    discrepancy = 1000000000 / 1073741824\n",
    "\n",
    "print('Unesite oglaseni kapacitet:')\n",
    "advertised_capacity = input('>')\n",
    "advertised_capacity = float(advertised_capacity)\n",
    "\n",
    "real_capacity = str(round(advertised_capacity * discrepancy, 2))\n",
    "\n",
    "print('Stvarni kapacitet je ' + real_capacity + ' ' + unit)"
   ]
  }
 ],
 "metadata": {
  "kernelspec": {
   "display_name": "Python [conda env:base] *",
   "language": "python",
   "name": "conda-base-py"
  },
  "language_info": {
   "codemirror_mode": {
    "name": "ipython",
    "version": 3
   },
   "file_extension": ".py",
   "mimetype": "text/x-python",
   "name": "python",
   "nbconvert_exporter": "python",
   "pygments_lexer": "ipython3",
   "version": "3.13.5"
  }
 },
 "nbformat": 4,
 "nbformat_minor": 5
}
