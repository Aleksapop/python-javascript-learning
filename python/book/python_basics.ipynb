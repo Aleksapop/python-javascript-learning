{
 "cells": [
  {
   "cell_type": "code",
   "execution_count": 7,
   "id": "a8aa6ce0-b450-421c-8a7f-cc1936eadf2f",
   "metadata": {},
   "outputs": [
    {
     "name": "stdout",
     "output_type": "stream",
     "text": [
      "4\n",
      "16\n",
      "3.125\n",
      "3\n",
      "2.9\n",
      "2\n"
     ]
    }
   ],
   "source": [
    "a = 2+2\n",
    "print(a)\n",
    "b = 2 ** 4 # ov je isto sto i 2 * 2 * 2 * 2\n",
    "print(b)\n",
    "c = 25 / 8\n",
    "print(c)\n",
    "cc = 25 // 8\n",
    "print(cc)\n",
    "d = 29 / 10 \n",
    "print(d)\n",
    "dd = 29 // 10\n",
    "print(dd)\n"
   ]
  },
  {
   "cell_type": "code",
   "execution_count": 9,
   "id": "6de3ca11-30ac-4d1f-bc29-b08f742acde2",
   "metadata": {},
   "outputs": [
    {
     "name": "stdout",
     "output_type": "stream",
     "text": [
      "20\n",
      "30\n",
      "256\n",
      "3.2857142857142856\n",
      "3\n",
      "2\n",
      "4\n",
      "16.0\n"
     ]
    }
   ],
   "source": [
    "a = 2 + 3 * 6\n",
    "b = (2+3) * 6\n",
    "c = 2 ** 8\n",
    "d = 23 / 7\n",
    "e = 23 // 7\n",
    "f = 23 % 7\n",
    "g = 2  +           2  # pokazuje da razmak nema veze da ce jos uvek da sabere\n",
    "i = (5-1) * ((7 + 1) / (3-1))\n",
    "print(a)\n",
    "print(b)\n",
    "print(c)\n",
    "print(d)\n",
    "print(e)\n",
    "print(f)\n",
    "print(g)\n",
    "print(i)"
   ]
  },
  {
   "cell_type": "code",
   "execution_count": 11,
   "id": "fbe72340-7142-425a-b210-7c549c8029fa",
   "metadata": {},
   "outputs": [
    {
     "ename": "SyntaxError",
     "evalue": "invalid syntax (3142945653.py, line 1)",
     "output_type": "error",
     "traceback": [
      "\u001b[0;36m  Cell \u001b[0;32mIn[11], line 1\u001b[0;36m\u001b[0m\n\u001b[0;31m    5 +\u001b[0m\n\u001b[0m       ^\u001b[0m\n\u001b[0;31mSyntaxError\u001b[0m\u001b[0;31m:\u001b[0m invalid syntax\n"
     ]
    }
   ],
   "source": [
    "5 + # pokazuje gresku jer nema nista posle plus i program ne zna sta da sabere"
   ]
  },
  {
   "cell_type": "code",
   "execution_count": 12,
   "id": "5dd5d24d-bcb2-4b43-915a-0c94660c8cb6",
   "metadata": {},
   "outputs": [
    {
     "ename": "SyntaxError",
     "evalue": "invalid syntax (1147216541.py, line 1)",
     "output_type": "error",
     "traceback": [
      "\u001b[0;36m  Cell \u001b[0;32mIn[12], line 1\u001b[0;36m\u001b[0m\n\u001b[0;31m    45 + 5 + * 1\u001b[0m\n\u001b[0m             ^\u001b[0m\n\u001b[0;31mSyntaxError\u001b[0m\u001b[0;31m:\u001b[0m invalid syntax\n"
     ]
    }
   ],
   "source": [
    "45 + 5 + * 1 # pokazuje gresku jer nmg da stavim dva razlita znaka jedan pored drugog"
   ]
  },
  {
   "cell_type": "code",
   "execution_count": 13,
   "id": "4b385579-6318-4a1c-b0bd-734e4c80ea0c",
   "metadata": {},
   "outputs": [
    {
     "ename": "SyntaxError",
     "evalue": "unterminated string literal (detected at line 1) (2285882757.py, line 1)",
     "output_type": "error",
     "traceback": [
      "\u001b[0;36m  Cell \u001b[0;32mIn[13], line 1\u001b[0;36m\u001b[0m\n\u001b[0;31m    'Hello, World!\u001b[0m\n\u001b[0m    ^\u001b[0m\n\u001b[0;31mSyntaxError\u001b[0m\u001b[0;31m:\u001b[0m unterminated string literal (detected at line 1)\n"
     ]
    }
   ],
   "source": [
    "'Hello, World! \n",
    "# pokazuje gresku jer nismo zatvorili navodnike"
   ]
  },
  {
   "cell_type": "code",
   "execution_count": 14,
   "id": "7236a89e-bdd7-450e-8c8a-0ac69e16a634",
   "metadata": {},
   "outputs": [
    {
     "data": {
      "text/plain": [
       "'AliceBob'"
      ]
     },
     "execution_count": 14,
     "metadata": {},
     "output_type": "execute_result"
    }
   ],
   "source": [
    "'Alice' + 'Bob' # pokazuje da dva stringa mogu da se sabiraju"
   ]
  },
  {
   "cell_type": "code",
   "execution_count": 17,
   "id": "49455a3b-dc53-4d7c-8cd3-e22e2edf76e9",
   "metadata": {},
   "outputs": [
    {
     "ename": "TypeError",
     "evalue": "can only concatenate str (not \"int\") to str",
     "output_type": "error",
     "traceback": [
      "\u001b[0;31m---------------------------------------------------------------------------\u001b[0m",
      "\u001b[0;31mTypeError\u001b[0m                                 Traceback (most recent call last)",
      "Cell \u001b[0;32mIn[17], line 1\u001b[0m\n\u001b[0;32m----> 1\u001b[0m \u001b[38;5;124m\"\u001b[39m\u001b[38;5;124mAlice\u001b[39m\u001b[38;5;124m\"\u001b[39m \u001b[38;5;241m+\u001b[39m \u001b[38;5;241m42\u001b[39m\n",
      "\u001b[0;31mTypeError\u001b[0m: can only concatenate str (not \"int\") to str"
     ]
    }
   ],
   "source": [
    "\"Alice\" + 42 # pokazuje gresku jer ne mozes da saberes str i br"
   ]
  },
  {
   "cell_type": "code",
   "execution_count": 21,
   "id": "3264cc03-f5c2-476f-95c2-1e543dd6983a",
   "metadata": {},
   "outputs": [
    {
     "ename": "TypeError",
     "evalue": "can't multiply sequence by non-int of type 'float'",
     "output_type": "error",
     "traceback": [
      "\u001b[0;31m---------------------------------------------------------------------------\u001b[0m",
      "\u001b[0;31mTypeError\u001b[0m                                 Traceback (most recent call last)",
      "Cell \u001b[0;32mIn[21], line 1\u001b[0m\n\u001b[0;32m----> 1\u001b[0m \u001b[38;5;124m'\u001b[39m\u001b[38;5;124mAlice\u001b[39m\u001b[38;5;124m'\u001b[39m \u001b[38;5;241m*\u001b[39m \u001b[38;5;241m5.1\u001b[39m\n",
      "\u001b[0;31mTypeError\u001b[0m: can't multiply sequence by non-int of type 'float'"
     ]
    }
   ],
   "source": [
    "'Alice' * 5.1 # pokazuje da ne mozes da mnozis str i brojem koji nije ceo"
   ]
  },
  {
   "cell_type": "code",
   "execution_count": 25,
   "id": "1d3ea132-0e33-4ced-8275-7e387f7261fd",
   "metadata": {},
   "outputs": [
    {
     "data": {
      "text/plain": [
       "'AliceAliceAliceAliceAlice'"
      ]
     },
     "execution_count": 25,
     "metadata": {},
     "output_type": "execute_result"
    }
   ],
   "source": [
    "'Alice' * 5 # dok ovo pokazuje da mozes da pomnozis str sa celim brojem"
   ]
  },
  {
   "cell_type": "code",
   "execution_count": 35,
   "id": "c3955f86-6c14-4c16-937c-94d34c9996ae",
   "metadata": {},
   "outputs": [
    {
     "data": {
      "text/plain": [
       "42"
      ]
     },
     "execution_count": 35,
     "metadata": {},
     "output_type": "execute_result"
    }
   ],
   "source": [
    "spam = 40 \n",
    "spam\n",
    "eggs = 2\n",
    "spam + eggs \n",
    "# pokazuje mi da kada napisem npr spam = 40 spam dobija vrednost i spam je zabrapo 40 i da tako mogu da sabiram "
   ]
  },
  {
   "cell_type": "code",
   "execution_count": 39,
   "id": "02108d5f-5cb0-436e-96bc-7b06d4d3bf89",
   "metadata": {},
   "outputs": [
    {
     "data": {
      "text/plain": [
       "'It is good to meet you, Al'"
      ]
     },
     "execution_count": 39,
     "metadata": {},
     "output_type": "execute_result"
    }
   ],
   "source": [
    "my_name = 'Al'\n",
    "('It is good to meet you, ' + my_name)"
   ]
  },
  {
   "cell_type": "code",
   "execution_count": 46,
   "id": "cf8334a3-2c83-4fba-a9f2-08fbd55a1991",
   "metadata": {},
   "outputs": [
    {
     "data": {
      "text/plain": [
       "'-3.14'"
      ]
     },
     "execution_count": 46,
     "metadata": {},
     "output_type": "execute_result"
    }
   ],
   "source": [
    "str(-3.14) # ovde pokazujemo kako mogu da pretvorim broj u str"
   ]
  },
  {
   "cell_type": "code",
   "execution_count": 54,
   "id": "6534ede5-7194-4f20-a326-5245b4e465f2",
   "metadata": {},
   "outputs": [
    {
     "name": "stdout",
     "output_type": "stream",
     "text": [
      "<class 'int'>\n",
      "<class 'str'>\n"
     ]
    }
   ],
   "source": [
    "print(type(42))\n",
    "print(type('42'))\n",
    "# ovo mi pokazuje da ako napisem type ono ce da mi ispise samo koja je vrednost "
   ]
  },
  {
   "cell_type": "code",
   "execution_count": 55,
   "id": "c4949f85-489b-46d3-9ad9-b623e86562ea",
   "metadata": {},
   "outputs": [
    {
     "name": "stdout",
     "output_type": "stream",
     "text": [
      "3\n",
      "8\n",
      "-2\n",
      "7.778\n"
     ]
    }
   ],
   "source": [
    "print(round(3.14))\n",
    "print(round(7.7))\n",
    "print(round(-2.2))\n",
    "print(round(7.7777, 3))\n",
    "# ovo pokazuje da round zaokruzuje broj i zavisnoti od ostatak ce da zaokuzi ma manji ili veci i pokazuje da mogu da biram na koliko decimala zelim da mi zaokruzi"
   ]
  },
  {
   "cell_type": "code",
   "execution_count": 58,
   "id": "e0e538ff-29d5-4814-9e2d-ff223d82ab51",
   "metadata": {},
   "outputs": [
    {
     "name": "stdout",
     "output_type": "stream",
     "text": [
      "25\n",
      "25\n",
      "3.14\n",
      "0\n"
     ]
    }
   ],
   "source": [
    "print(abs(25))\n",
    "print(abs(-25))\n",
    "print(abs(-3.14))\n",
    "print(abs(0))\n",
    "# pokazuje da pretvara negativne brojeve u pozitivne"
   ]
  }
 ],
 "metadata": {
  "kernelspec": {
   "display_name": "Python [conda env:base] *",
   "language": "python",
   "name": "conda-base-py"
  },
  "language_info": {
   "codemirror_mode": {
    "name": "ipython",
    "version": 3
   },
   "file_extension": ".py",
   "mimetype": "text/x-python",
   "name": "python",
   "nbconvert_exporter": "python",
   "pygments_lexer": "ipython3",
   "version": "3.13.5"
  }
 },
 "nbformat": 4,
 "nbformat_minor": 5
}
