{
 "cells": [
  {
   "cell_type": "code",
   "execution_count": 1,
   "id": "2b07f287-4230-4f9f-9498-f1174d1501f4",
   "metadata": {},
   "outputs": [
    {
     "name": "stdout",
     "output_type": "stream",
     "text": [
      "Hello, world.\n"
     ]
    }
   ],
   "source": [
    "spam = 0\n",
    "if spam < 5:\n",
    "    print('Hello, world.')\n",
    "    spam = spam + 1"
   ]
  },
  {
   "cell_type": "code",
   "execution_count": 4,
   "id": "ddc22914-dd6b-45c0-859a-c69a6e910dbf",
   "metadata": {},
   "outputs": [
    {
     "name": "stdout",
     "output_type": "stream",
     "text": [
      "Hello, world.\n",
      "Hello, world.\n",
      "Hello, world.\n",
      "Hello, world.\n",
      "Hello, world.\n"
     ]
    }
   ],
   "source": [
    "spam = 0\n",
    "while spam < 5:\n",
    "    print('Hello, world.')\n",
    "    spam = spam + 1"
   ]
  },
  {
   "cell_type": "code",
   "execution_count": 6,
   "id": "8006acd1-7080-4748-88d1-453252c8a028",
   "metadata": {},
   "outputs": [
    {
     "name": "stdout",
     "output_type": "stream",
     "text": [
      "Pleas type your name\n"
     ]
    },
    {
     "name": "stdin",
     "output_type": "stream",
     "text": [
      "> 56\n"
     ]
    },
    {
     "name": "stdout",
     "output_type": "stream",
     "text": [
      "Pleas type your name\n"
     ]
    },
    {
     "name": "stdin",
     "output_type": "stream",
     "text": [
      "> 42\n"
     ]
    },
    {
     "name": "stdout",
     "output_type": "stream",
     "text": [
      "Pleas type your name\n"
     ]
    },
    {
     "name": "stdin",
     "output_type": "stream",
     "text": [
      "> your name\n"
     ]
    },
    {
     "name": "stdout",
     "output_type": "stream",
     "text": [
      "Thank you\n"
     ]
    }
   ],
   "source": [
    "name = ''\n",
    "while name != 'your name':\n",
    "    print('Pleas type your name')\n",
    "    name = input('>')\n",
    "print('Thank you')"
   ]
  },
  {
   "cell_type": "code",
   "execution_count": 8,
   "id": "abd9db29-7247-4a79-b2b6-bf75b636c9eb",
   "metadata": {},
   "outputs": [
    {
     "name": "stdout",
     "output_type": "stream",
     "text": [
      "Pleas type your name:\n"
     ]
    },
    {
     "name": "stdin",
     "output_type": "stream",
     "text": [
      "> asd\n"
     ]
    },
    {
     "name": "stdout",
     "output_type": "stream",
     "text": [
      "Pleas type your name:\n"
     ]
    },
    {
     "name": "stdin",
     "output_type": "stream",
     "text": [
      "> sda\n"
     ]
    },
    {
     "name": "stdout",
     "output_type": "stream",
     "text": [
      "Pleas type your name:\n"
     ]
    },
    {
     "name": "stdin",
     "output_type": "stream",
     "text": [
      "> your name\n"
     ]
    },
    {
     "name": "stdout",
     "output_type": "stream",
     "text": [
      "Thank you\n"
     ]
    }
   ],
   "source": [
    "while True:\n",
    "    print(\"Pleas type your name:\")\n",
    "    name = input('>')\n",
    "    if name == 'your name':\n",
    "        break\n",
    "print('Thank you')"
   ]
  },
  {
   "cell_type": "code",
   "execution_count": 10,
   "id": "539388c0-5f99-4b42-a626-54718edce668",
   "metadata": {},
   "outputs": [
    {
     "name": "stdout",
     "output_type": "stream",
     "text": [
      "Ko si ti\n"
     ]
    },
    {
     "name": "stdin",
     "output_type": "stream",
     "text": [
      "> Ana\n"
     ]
    },
    {
     "name": "stdout",
     "output_type": "stream",
     "text": [
      "Ko si ti\n"
     ]
    },
    {
     "name": "stdin",
     "output_type": "stream",
     "text": [
      "> Joe\n"
     ]
    },
    {
     "name": "stdout",
     "output_type": "stream",
     "text": [
      "zdravo, Joe. Koja je lozinka? (to je riba)\n"
     ]
    },
    {
     "name": "stdin",
     "output_type": "stream",
     "text": [
      "> to je riba\n"
     ]
    },
    {
     "name": "stdout",
     "output_type": "stream",
     "text": [
      "Ko si ti\n"
     ]
    },
    {
     "name": "stdin",
     "output_type": "stream",
     "text": [
      "> swordfish\n"
     ]
    },
    {
     "name": "stdout",
     "output_type": "stream",
     "text": [
      "Ko si ti\n"
     ]
    },
    {
     "name": "stdin",
     "output_type": "stream",
     "text": [
      "> Joe\n"
     ]
    },
    {
     "name": "stdout",
     "output_type": "stream",
     "text": [
      "zdravo, Joe. Koja je lozinka? (to je riba)\n"
     ]
    },
    {
     "name": "stdin",
     "output_type": "stream",
     "text": [
      "> swordfish\n"
     ]
    },
    {
     "name": "stdout",
     "output_type": "stream",
     "text": [
      "Pristup odobren\n"
     ]
    }
   ],
   "source": [
    "while True:\n",
    "    print(\"Ko si ti\")\n",
    "    name = input('>')\n",
    "    if name != 'Joe':\n",
    "        continue\n",
    "    print(\"zdravo, Joe. Koja je lozinka? (to je riba)\")\n",
    "    password = input('>')\n",
    "    if password == 'swordfish':\n",
    "        break\n",
    "print('Pristup odobren')"
   ]
  },
  {
   "cell_type": "code",
   "execution_count": 11,
   "id": "8d31e2cf-aacb-4108-afd8-da0c151a5225",
   "metadata": {},
   "outputs": [
    {
     "name": "stdout",
     "output_type": "stream",
     "text": [
      "Unesite svoje ime:\n"
     ]
    },
    {
     "name": "stdin",
     "output_type": "stream",
     "text": [
      "> Ana\n"
     ]
    },
    {
     "name": "stdout",
     "output_type": "stream",
     "text": [
      "Koliko gostiju cete imati?\n"
     ]
    },
    {
     "name": "stdin",
     "output_type": "stream",
     "text": [
      "> 43\n"
     ]
    },
    {
     "name": "stdout",
     "output_type": "stream",
     "text": [
      "Pobrinite se da imate dovoljno mesta za sve goste.\n",
      "Gotovo\n"
     ]
    }
   ],
   "source": [
    "name = ''\n",
    "while not name:\n",
    "    print('Unesite svoje ime:')\n",
    "    name = input('>')\n",
    "print('Koliko gostiju cete imati?')\n",
    "num_of_guests = int(input('>'))\n",
    "if num_of_guests:\n",
    "    print('Pobrinite se da imate dovoljno mesta za sve goste.')\n",
    "print('Gotovo')"
   ]
  },
  {
   "cell_type": "code",
   "execution_count": 13,
   "id": "3ec7baf8-2b99-469a-a8cb-516f541e03f7",
   "metadata": {},
   "outputs": [
    {
     "name": "stdout",
     "output_type": "stream",
     "text": [
      "Zdravo\n",
      "U ovoj iteraciji, i je postavljeno na 0\n",
      "U ovoj iteraciji, i je postavljeno na 1\n",
      "U ovoj iteraciji, i je postavljeno na 2\n",
      "U ovoj iteraciji, i je postavljeno na 3\n",
      "U ovoj iteraciji, i je postavljeno na 4\n",
      "Dovidjenja!\n"
     ]
    }
   ],
   "source": [
    "print('Zdravo')\n",
    "for i in range(5):\n",
    "    print('U ovoj iteraciji, i je postavljeno na ' + str(i))\n",
    "print('Dovidjenja!')"
   ]
  },
  {
   "cell_type": "code",
   "execution_count": 15,
   "id": "9e4f5af3-71a6-46b1-915b-7df49cc6baa1",
   "metadata": {},
   "outputs": [
    {
     "name": "stdout",
     "output_type": "stream",
     "text": [
      "5050\n"
     ]
    }
   ],
   "source": [
    "total = 0\n",
    "for num in range(101):\n",
    "    total = total + num\n",
    "print(total)"
   ]
  },
  {
   "cell_type": "code",
   "execution_count": 16,
   "id": "9e147fd5-25aa-401c-a0ca-3803e51595e4",
   "metadata": {},
   "outputs": [
    {
     "name": "stdout",
     "output_type": "stream",
     "text": [
      "Hello\n",
      "Na ovoj iteraciji, i je 0\n",
      "Na ovoj iteraciji, i je 1\n",
      "Na ovoj iteraciji, i je 2\n",
      "Na ovoj iteraciji, i je 3\n",
      "Na ovoj iteraciji, i je 4\n",
      "Goodbye\n"
     ]
    }
   ],
   "source": [
    "print('Hello')\n",
    "i = 0\n",
    "while i < 5:\n",
    "    print('Na ovoj iteraciji, i je ' + str(i))\n",
    "    i = i + 1\n",
    "print('Goodbye')"
   ]
  },
  {
   "cell_type": "code",
   "execution_count": 18,
   "id": "fd0de792-46fe-45d5-a29b-006302aee9cf",
   "metadata": {},
   "outputs": [
    {
     "name": "stdout",
     "output_type": "stream",
     "text": [
      "12\n",
      "13\n",
      "14\n",
      "15\n"
     ]
    }
   ],
   "source": [
    "for i in range(12, 16):\n",
    "    print(i)"
   ]
  },
  {
   "cell_type": "code",
   "execution_count": 20,
   "id": "702a6048-3b77-484c-80b3-2a98fe466baf",
   "metadata": {},
   "outputs": [
    {
     "name": "stdout",
     "output_type": "stream",
     "text": [
      "0\n",
      "2\n",
      "4\n",
      "6\n",
      "8\n"
     ]
    }
   ],
   "source": [
    "for i in range(0, 10, 2):\n",
    "    print(i)"
   ]
  },
  {
   "cell_type": "code",
   "execution_count": 21,
   "id": "3a678a1d-6587-45ce-ac3c-a10b2608842a",
   "metadata": {},
   "outputs": [
    {
     "name": "stdout",
     "output_type": "stream",
     "text": [
      "5\n",
      "4\n",
      "3\n",
      "2\n",
      "1\n",
      "0\n"
     ]
    }
   ],
   "source": [
    "for i in range(5, -1, -1):\n",
    "    print(i)"
   ]
  },
  {
   "cell_type": "code",
   "execution_count": 25,
   "id": "77b861c5-9f14-49ea-9a5d-deecea1041fc",
   "metadata": {},
   "outputs": [
    {
     "name": "stdout",
     "output_type": "stream",
     "text": [
      "8\n",
      "3\n",
      "8\n",
      "10\n",
      "4\n"
     ]
    }
   ],
   "source": [
    "import random\n",
    "for i in range(5):\n",
    "    print(random.randint(1,10))"
   ]
  },
  {
   "cell_type": "code",
   "execution_count": 31,
   "id": "a205b823-7bb5-481c-9b47-379f4a7b25fd",
   "metadata": {},
   "outputs": [
    {
     "name": "stdout",
     "output_type": "stream",
     "text": [
      "Ukucjate exit da izadjate\n"
     ]
    },
    {
     "name": "stdin",
     "output_type": "stream",
     "text": [
      "> exit\n"
     ]
    },
    {
     "ename": "SystemExit",
     "evalue": "",
     "output_type": "error",
     "traceback": [
      "An exception has occurred, use %tb to see the full traceback.\n",
      "\u001b[0;31mSystemExit\u001b[0m\n"
     ]
    }
   ],
   "source": [
    "import sys\n",
    "\n",
    "while True:\n",
    "    print('Ukucjate exit da izadjate')\n",
    "    response = input('>')\n",
    "    if response == 'exit':\n",
    "        sys.exit()\n",
    "    print('Ukucali ste ' + response + '.')"
   ]
  },
  {
   "cell_type": "code",
   "execution_count": 36,
   "id": "2e5a3845-9714-4b8b-b667-5f8f8b651fab",
   "metadata": {},
   "outputs": [
    {
     "name": "stdout",
     "output_type": "stream",
     "text": [
      "Mislim na broj izmedju 1 i 20.\n",
      "Pogodi broj\n"
     ]
    },
    {
     "name": "stdin",
     "output_type": "stream",
     "text": [
      "> 25\n"
     ]
    },
    {
     "name": "stdout",
     "output_type": "stream",
     "text": [
      "Tvoj broj je prevelik\n",
      "Pogodi broj\n"
     ]
    },
    {
     "name": "stdin",
     "output_type": "stream",
     "text": [
      "> 5\n"
     ]
    },
    {
     "name": "stdout",
     "output_type": "stream",
     "text": [
      "Tvoj pokusaj je premali\n",
      "Pogodi broj\n"
     ]
    },
    {
     "name": "stdin",
     "output_type": "stream",
     "text": [
      "> 10\n"
     ]
    },
    {
     "name": "stdout",
     "output_type": "stream",
     "text": [
      "Tvoj pokusaj je premali\n",
      "Pogodi broj\n"
     ]
    },
    {
     "name": "stdin",
     "output_type": "stream",
     "text": [
      "> 13\n"
     ]
    },
    {
     "name": "stdout",
     "output_type": "stream",
     "text": [
      "Tvoj broj je prevelik\n",
      "Pogodi broj\n"
     ]
    },
    {
     "name": "stdin",
     "output_type": "stream",
     "text": [
      "> 11\n"
     ]
    },
    {
     "name": "stdout",
     "output_type": "stream",
     "text": [
      "Tvoj pokusaj je premali\n",
      "Pogodi broj\n"
     ]
    },
    {
     "name": "stdin",
     "output_type": "stream",
     "text": [
      "> 12\n"
     ]
    },
    {
     "name": "stdout",
     "output_type": "stream",
     "text": [
      "bravo pogodio si za 6 pokusaja\n"
     ]
    }
   ],
   "source": [
    "import random\n",
    "secret_number = random.randint(1, 20)\n",
    "print('Mislim na broj izmedju 1 i 20.')\n",
    "for guesses_taken in range(1,7):\n",
    "    print(\"Pogodi broj\")\n",
    "    guess = int(input('>'))\n",
    "    if guess < secret_number:\n",
    "        print('Tvoj pokusaj je premali')\n",
    "    elif guess > secret_number:\n",
    "        print('Tvoj broj je prevelik')\n",
    "    else:\n",
    "        break\n",
    "if guess == secret_number:\n",
    "    print('bravo pogodio si za ' + str(guesses_taken) + ' pokusaja')\n",
    "else:\n",
    "    print('Nazalos nisi pogodio tvoj broj je bio ' + str(guesses_taken) + ' pokusaja')"
   ]
  },
  {
   "cell_type": "code",
   "execution_count": 37,
   "id": "74032ae2-3ac8-4a15-9e44-51ffaa1a5d14",
   "metadata": {},
   "outputs": [
    {
     "name": "stdout",
     "output_type": "stream",
     "text": [
      "KAMEN, PAPIR, MAKAZE\n",
      "0 Pobeda, 0 Poraza, 0 Neriješenih\n",
      "Unesite svoj potez: (k)amen (p)apir (m)akaze ili (q)izlaz\n"
     ]
    },
    {
     "name": "stdin",
     "output_type": "stream",
     "text": [
      "> k\n"
     ]
    },
    {
     "name": "stdout",
     "output_type": "stream",
     "text": [
      "KAMEN protiv...\n",
      "KAMEN\n",
      "Neriješeno!\n",
      "0 Pobeda, 0 Poraza, 1 Neriješenih\n",
      "Unesite svoj potez: (k)amen (p)apir (m)akaze ili (q)izlaz\n"
     ]
    },
    {
     "name": "stdin",
     "output_type": "stream",
     "text": [
      "> k\n"
     ]
    },
    {
     "name": "stdout",
     "output_type": "stream",
     "text": [
      "KAMEN protiv...\n",
      "KAMEN\n",
      "Neriješeno!\n",
      "0 Pobeda, 0 Poraza, 2 Neriješenih\n",
      "Unesite svoj potez: (k)amen (p)apir (m)akaze ili (q)izlaz\n"
     ]
    },
    {
     "name": "stdin",
     "output_type": "stream",
     "text": [
      "> k\n"
     ]
    },
    {
     "name": "stdout",
     "output_type": "stream",
     "text": [
      "KAMEN protiv...\n",
      "MAKAZE\n",
      "Pobedili ste!\n",
      "1 Pobeda, 0 Poraza, 2 Neriješenih\n",
      "Unesite svoj potez: (k)amen (p)apir (m)akaze ili (q)izlaz\n"
     ]
    },
    {
     "name": "stdin",
     "output_type": "stream",
     "text": [
      "> k\n"
     ]
    },
    {
     "name": "stdout",
     "output_type": "stream",
     "text": [
      "KAMEN protiv...\n",
      "PAPIR\n",
      "Izgubili ste!\n",
      "1 Pobeda, 1 Poraza, 2 Neriješenih\n",
      "Unesite svoj potez: (k)amen (p)apir (m)akaze ili (q)izlaz\n"
     ]
    },
    {
     "name": "stdin",
     "output_type": "stream",
     "text": [
      "> k\n"
     ]
    },
    {
     "name": "stdout",
     "output_type": "stream",
     "text": [
      "KAMEN protiv...\n",
      "PAPIR\n",
      "Izgubili ste!\n",
      "1 Pobeda, 2 Poraza, 2 Neriješenih\n",
      "Unesite svoj potez: (k)amen (p)apir (m)akaze ili (q)izlaz\n"
     ]
    },
    {
     "name": "stdin",
     "output_type": "stream",
     "text": [
      "> k\n"
     ]
    },
    {
     "name": "stdout",
     "output_type": "stream",
     "text": [
      "KAMEN protiv...\n",
      "KAMEN\n",
      "Neriješeno!\n",
      "1 Pobeda, 2 Poraza, 3 Neriješenih\n",
      "Unesite svoj potez: (k)amen (p)apir (m)akaze ili (q)izlaz\n"
     ]
    },
    {
     "name": "stdin",
     "output_type": "stream",
     "text": [
      "> k\n"
     ]
    },
    {
     "name": "stdout",
     "output_type": "stream",
     "text": [
      "KAMEN protiv...\n",
      "MAKAZE\n",
      "Pobedili ste!\n",
      "2 Pobeda, 2 Poraza, 3 Neriješenih\n",
      "Unesite svoj potez: (k)amen (p)apir (m)akaze ili (q)izlaz\n"
     ]
    },
    {
     "name": "stdin",
     "output_type": "stream",
     "text": [
      "> \n"
     ]
    },
    {
     "name": "stdout",
     "output_type": "stream",
     "text": [
      "Unesite jedno od: k, p, m ili q.\n",
      "Unesite svoj potez: (k)amen (p)apir (m)akaze ili (q)izlaz\n"
     ]
    },
    {
     "name": "stdin",
     "output_type": "stream",
     "text": [
      "> k\n"
     ]
    },
    {
     "name": "stdout",
     "output_type": "stream",
     "text": [
      "KAMEN protiv...\n",
      "MAKAZE\n",
      "Pobedili ste!\n",
      "3 Pobeda, 2 Poraza, 3 Neriješenih\n",
      "Unesite svoj potez: (k)amen (p)apir (m)akaze ili (q)izlaz\n"
     ]
    },
    {
     "name": "stdin",
     "output_type": "stream",
     "text": [
      "> k\n"
     ]
    },
    {
     "name": "stdout",
     "output_type": "stream",
     "text": [
      "KAMEN protiv...\n",
      "PAPIR\n",
      "Izgubili ste!\n",
      "3 Pobeda, 3 Poraza, 3 Neriješenih\n",
      "Unesite svoj potez: (k)amen (p)apir (m)akaze ili (q)izlaz\n"
     ]
    },
    {
     "name": "stdin",
     "output_type": "stream",
     "text": [
      "> k\n"
     ]
    },
    {
     "name": "stdout",
     "output_type": "stream",
     "text": [
      "KAMEN protiv...\n",
      "MAKAZE\n",
      "Pobedili ste!\n",
      "4 Pobeda, 3 Poraza, 3 Neriješenih\n",
      "Unesite svoj potez: (k)amen (p)apir (m)akaze ili (q)izlaz\n"
     ]
    },
    {
     "name": "stdin",
     "output_type": "stream",
     "text": [
      "> q\n"
     ]
    },
    {
     "ename": "SystemExit",
     "evalue": "",
     "output_type": "error",
     "traceback": [
      "An exception has occurred, use %tb to see the full traceback.\n",
      "\u001b[0;31mSystemExit\u001b[0m\n"
     ]
    }
   ],
   "source": [
    "import random, sys\n",
    "\n",
    "print('KAMEN, PAPIR, MAKAZE')\n",
    "\n",
    "# Ove promenljive prate broj pobeda, poraza i neriješenih.\n",
    "pobede = 0\n",
    "porazi = 0\n",
    "nerijeseno = 0\n",
    "\n",
    "while True:  \n",
    "    print('%s Pobeda, %s Poraza, %s Neriješenih' % (pobede, porazi, nerijeseno))\n",
    "    while True:\n",
    "        print('Unesite svoj potez: (k)amen (p)apir (m)akaze ili (q)izlaz')\n",
    "        potez_igraca = input('>')\n",
    "        if potez_igraca == 'q':\n",
    "            sys.exit()  \n",
    "        if potez_igraca == 'k' or potez_igraca == 'p' or potez_igraca == 'm':\n",
    "            break  \n",
    "        print('Unesite jedno od: k, p, m ili q.')\n",
    "    if potez_igraca == 'k':\n",
    "        print('KAMEN protiv...')\n",
    "    elif potez_igraca == 'p':\n",
    "        print('PAPIR protiv...')\n",
    "    elif potez_igraca == 'm':\n",
    "        print('MAKAZE protiv...')\n",
    "    broj_poteza = random.randint(1, 3)\n",
    "    if broj_poteza == 1:\n",
    "        potez_racunara = 'k'\n",
    "        print('KAMEN')\n",
    "    elif broj_poteza == 2:\n",
    "        potez_racunara = 'p'\n",
    "        print('PAPIR')\n",
    "    elif broj_poteza == 3:\n",
    "        potez_racunara = 'm'\n",
    "        print('MAKAZE')\n",
    "    if potez_igraca == potez_racunara:\n",
    "        print('Neriješeno!')\n",
    "        nerijeseno += 1\n",
    "    elif potez_igraca == 'k' and potez_racunara == 'm':\n",
    "        print('Pobedili ste!')\n",
    "        pobede += 1\n",
    "    elif potez_igraca == 'p' and potez_racunara == 'k':\n",
    "        print('Pobedili ste!')\n",
    "        pobede += 1\n",
    "    elif potez_igraca == 'm' and potez_racunara == 'p':\n",
    "        print('Pobedili ste!')\n",
    "        pobede += 1\n",
    "    elif potez_igraca == 'k' and potez_racunara == 'p':\n",
    "        print('Izgubili ste!')\n",
    "        porazi += 1\n",
    "    elif potez_igraca == 'p' and potez_racunara == 'm':\n",
    "        print('Izgubili ste!')\n",
    "        porazi += 1\n",
    "    elif potez_igraca == 'm' and potez_racunara == 'k':\n",
    "        print('Izgubili ste!')\n",
    "        porazi += 1"
   ]
  },
  {
   "cell_type": "code",
   "execution_count": 50,
   "id": "f3305ff3-71f4-42cc-9538-8eb78e8edb92",
   "metadata": {},
   "outputs": [
    {
     "name": "stdout",
     "output_type": "stream",
     "text": [
      "1\n",
      "2\n",
      "3\n",
      "4\n",
      "5\n",
      "6\n",
      "7\n",
      "8\n",
      "9\n",
      "10\n"
     ]
    }
   ],
   "source": [
    "for i in range(1,11):\n",
    "    print(i) "
   ]
  },
  {
   "cell_type": "code",
   "execution_count": 54,
   "id": "4667c622-6e42-46af-9cad-35e199789e8c",
   "metadata": {},
   "outputs": [
    {
     "name": "stdout",
     "output_type": "stream",
     "text": [
      "1\n",
      "2\n",
      "3\n",
      "4\n",
      "5\n",
      "6\n",
      "7\n",
      "8\n",
      "9\n",
      "10\n"
     ]
    }
   ],
   "source": [
    "i = 1\n",
    "while i <= 10:\n",
    "    print(i)\n",
    "    i += 1"
   ]
  },
  {
   "cell_type": "code",
   "execution_count": null,
   "id": "2c690b45-51b5-4295-a402-289b9ab5063a",
   "metadata": {},
   "outputs": [],
   "source": []
  }
 ],
 "metadata": {
  "kernelspec": {
   "display_name": "Python [conda env:base] *",
   "language": "python",
   "name": "conda-base-py"
  },
  "language_info": {
   "codemirror_mode": {
    "name": "ipython",
    "version": 3
   },
   "file_extension": ".py",
   "mimetype": "text/x-python",
   "name": "python",
   "nbconvert_exporter": "python",
   "pygments_lexer": "ipython3",
   "version": "3.13.5"
  }
 },
 "nbformat": 4,
 "nbformat_minor": 5
}
